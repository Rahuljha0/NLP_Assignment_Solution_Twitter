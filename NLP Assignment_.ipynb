{
 "cells": [
  {
   "cell_type": "code",
   "execution_count": 1,
   "id": "e8041519",
   "metadata": {},
   "outputs": [],
   "source": [
    "import pandas as pd\n",
    "import numpy as np\n",
    "import seaborn as sns\n",
    "import matplotlib.pyplot as plt\n",
    "%matplotlib inline\n",
    "import json\n",
    "from nltk.corpus import inaugural\n",
    "from sklearn.feature_extraction.text import CountVectorizer\n",
    "from sklearn.model_selection import train_test_split\n",
    "from sklearn.tree import DecisionTreeClassifier\n",
    "import re\n",
    "import nltk\n"
   ]
  },
  {
   "cell_type": "code",
   "execution_count": 2,
   "id": "4e02fd0e",
   "metadata": {},
   "outputs": [
    {
     "data": {
      "text/plain": [
       "'C:\\\\Users\\\\rahul'"
      ]
     },
     "execution_count": 2,
     "metadata": {},
     "output_type": "execute_result"
    }
   ],
   "source": [
    "import os\n",
    "os.getcwd()"
   ]
  },
  {
   "cell_type": "code",
   "execution_count": 3,
   "id": "5a0e7e65",
   "metadata": {},
   "outputs": [],
   "source": [
    "os.chdir('C:\\\\Users\\\\rahul')"
   ]
  },
  {
   "cell_type": "code",
   "execution_count": 4,
   "id": "5be563df",
   "metadata": {},
   "outputs": [],
   "source": [
    "data=pd.read_json(\"tweets.json\")"
   ]
  },
  {
   "cell_type": "code",
   "execution_count": 5,
   "id": "117c5009",
   "metadata": {},
   "outputs": [],
   "source": [
    "data1=data.T.copy()"
   ]
  },
  {
   "cell_type": "markdown",
   "id": "f3936d29",
   "metadata": {},
   "source": [
    "## Objective 1: Get the most frequent entities from the tweets."
   ]
  },
  {
   "cell_type": "code",
   "execution_count": 6,
   "id": "a3313f01",
   "metadata": {},
   "outputs": [
    {
     "data": {
      "text/html": [
       "<div>\n",
       "<style scoped>\n",
       "    .dataframe tbody tr th:only-of-type {\n",
       "        vertical-align: middle;\n",
       "    }\n",
       "\n",
       "    .dataframe tbody tr th {\n",
       "        vertical-align: top;\n",
       "    }\n",
       "\n",
       "    .dataframe thead th {\n",
       "        text-align: right;\n",
       "    }\n",
       "</style>\n",
       "<table border=\"1\" class=\"dataframe\">\n",
       "  <thead>\n",
       "    <tr style=\"text-align: right;\">\n",
       "      <th></th>\n",
       "      <th>tweet_author</th>\n",
       "      <th>tweet_text</th>\n",
       "    </tr>\n",
       "  </thead>\n",
       "  <tbody>\n",
       "    <tr>\n",
       "      <th>2013-07-18 09:39:46.071961602</th>\n",
       "      <td>Hematopoiesis News</td>\n",
       "      <td>⚕️ Scientists conducted a Phase II study of ac...</td>\n",
       "    </tr>\n",
       "    <tr>\n",
       "      <th>2013-07-17 03:40:32.173842437</th>\n",
       "      <td>Michael Wang, MD</td>\n",
       "      <td>This phase 2 Acalabrutinib-Venetoclax (AV) tri...</td>\n",
       "    </tr>\n",
       "    <tr>\n",
       "      <th>2013-07-15 15:41:16.553048065</th>\n",
       "      <td>1stOncology</td>\n",
       "      <td>#NICE backs #AstraZenecas #Calquence for #CLL ...</td>\n",
       "    </tr>\n",
       "    <tr>\n",
       "      <th>2013-07-12 19:19:42.367813635</th>\n",
       "      <td>Toby Eyre</td>\n",
       "      <td>#acalabrutinib is a valuable option in pts int...</td>\n",
       "    </tr>\n",
       "    <tr>\n",
       "      <th>2013-07-04 12:40:34.334232586</th>\n",
       "      <td>Lymphoma Hub</td>\n",
       "      <td>NICE has recommended the use of acalabrutinib ...</td>\n",
       "    </tr>\n",
       "  </tbody>\n",
       "</table>\n",
       "</div>"
      ],
      "text/plain": [
       "                                     tweet_author  \\\n",
       "2013-07-18 09:39:46.071961602  Hematopoiesis News   \n",
       "2013-07-17 03:40:32.173842437    Michael Wang, MD   \n",
       "2013-07-15 15:41:16.553048065         1stOncology   \n",
       "2013-07-12 19:19:42.367813635           Toby Eyre   \n",
       "2013-07-04 12:40:34.334232586        Lymphoma Hub   \n",
       "\n",
       "                                                                      tweet_text  \n",
       "2013-07-18 09:39:46.071961602  ⚕️ Scientists conducted a Phase II study of ac...  \n",
       "2013-07-17 03:40:32.173842437  This phase 2 Acalabrutinib-Venetoclax (AV) tri...  \n",
       "2013-07-15 15:41:16.553048065  #NICE backs #AstraZenecas #Calquence for #CLL ...  \n",
       "2013-07-12 19:19:42.367813635  #acalabrutinib is a valuable option in pts int...  \n",
       "2013-07-04 12:40:34.334232586  NICE has recommended the use of acalabrutinib ...  "
      ]
     },
     "execution_count": 6,
     "metadata": {},
     "output_type": "execute_result"
    }
   ],
   "source": [
    "data1.head()"
   ]
  },
  {
   "cell_type": "code",
   "execution_count": 7,
   "id": "c198091b",
   "metadata": {},
   "outputs": [
    {
     "name": "stdout",
     "output_type": "stream",
     "text": [
      "<class 'pandas.core.frame.DataFrame'>\n",
      "DatetimeIndex: 43347 entries, 2013-07-18 09:39:46.071961602 to 1987-06-13 10:44:06.537678849\n",
      "Data columns (total 2 columns):\n",
      " #   Column        Non-Null Count  Dtype \n",
      "---  ------        --------------  ----- \n",
      " 0   tweet_author  43347 non-null  object\n",
      " 1   tweet_text    43347 non-null  object\n",
      "dtypes: object(2)\n",
      "memory usage: 2.0+ MB\n"
     ]
    }
   ],
   "source": [
    "data1.info()"
   ]
  },
  {
   "cell_type": "code",
   "execution_count": 8,
   "id": "4a4f43ed",
   "metadata": {},
   "outputs": [
    {
     "data": {
      "text/plain": [
       "Patient Power            1603\n",
       "Paperbirds_Hematology    1510\n",
       "VJHemOnc                 1079\n",
       "Oncology Tube             714\n",
       "Medivizor                 663\n",
       "Name: tweet_author, dtype: int64"
      ]
     },
     "execution_count": 8,
     "metadata": {},
     "output_type": "execute_result"
    }
   ],
   "source": [
    "data1.tweet_author.value_counts().head()"
   ]
  },
  {
   "cell_type": "code",
   "execution_count": 9,
   "id": "636138bd",
   "metadata": {},
   "outputs": [
    {
     "data": {
      "text/html": [
       "<div>\n",
       "<style scoped>\n",
       "    .dataframe tbody tr th:only-of-type {\n",
       "        vertical-align: middle;\n",
       "    }\n",
       "\n",
       "    .dataframe tbody tr th {\n",
       "        vertical-align: top;\n",
       "    }\n",
       "\n",
       "    .dataframe thead th {\n",
       "        text-align: right;\n",
       "    }\n",
       "</style>\n",
       "<table border=\"1\" class=\"dataframe\">\n",
       "  <thead>\n",
       "    <tr style=\"text-align: right;\">\n",
       "      <th></th>\n",
       "      <th>tweet_text</th>\n",
       "    </tr>\n",
       "    <tr>\n",
       "      <th>tweet_author</th>\n",
       "      <th></th>\n",
       "    </tr>\n",
       "  </thead>\n",
       "  <tbody>\n",
       "    <tr>\n",
       "      <th>Camilla White</th>\n",
       "      <td>The pleotropic activity of... http://t.co/6u15...</td>\n",
       "    </tr>\n",
       "    <tr>\n",
       "      <th>Emilie Thompson</th>\n",
       "      <td>The pleotropic activity of... http://t.co/mr9S...</td>\n",
       "    </tr>\n",
       "    <tr>\n",
       "      <th>Hannah Wright</th>\n",
       "      <td>The pleotropic activity of... http://t.co/lLyP...</td>\n",
       "    </tr>\n",
       "    <tr>\n",
       "      <th>Yvianna   </th>\n",
       "      <td>Saudade #Cll 😒</td>\n",
       "    </tr>\n",
       "    <tr>\n",
       "      <th>#DestroyTheAadhaar    TwiLightOFTheGODS</th>\n",
       "      <td>UK hospitals to trial five new drugs in search...</td>\n",
       "    </tr>\n",
       "    <tr>\n",
       "      <th>#Endsars protest</th>\n",
       "      <td>Medical News Today: What is the outlook for ch...</td>\n",
       "    </tr>\n",
       "    <tr>\n",
       "      <th>#Enritchansrajpandey</th>\n",
       "      <td>🔆Good Morning All🔆 \\n☀️ Exclusive Morning Mark...</td>\n",
       "    </tr>\n",
       "    <tr>\n",
       "      <th>#KING OF FLORIDA 👑</th>\n",
       "      <td>#360WiseNews : Venetoclax Is A Powerful New Ki...</td>\n",
       "    </tr>\n",
       "    <tr>\n",
       "      <th>#LeoWeichafe</th>\n",
       "      <td>Esperando a que comience la lucha, acá en @chi...</td>\n",
       "    </tr>\n",
       "    <tr>\n",
       "      <th>#Memory</th>\n",
       "      <td>Antitumor Potency of an Anti-CD19 Chimeric Ant...</td>\n",
       "    </tr>\n",
       "  </tbody>\n",
       "</table>\n",
       "</div>"
      ],
      "text/plain": [
       "                                                                                tweet_text\n",
       "tweet_author                                                                              \n",
       " Camilla White                           The pleotropic activity of... http://t.co/6u15...\n",
       " Emilie Thompson                         The pleotropic activity of... http://t.co/mr9S...\n",
       " Hannah Wright                           The pleotropic activity of... http://t.co/lLyP...\n",
       " Yvianna                                                                   Saudade #Cll 😒\n",
       "#DestroyTheAadhaar    TwiLightOFTheGODS  UK hospitals to trial five new drugs in search...\n",
       "#Endsars protest                         Medical News Today: What is the outlook for ch...\n",
       "#Enritchansrajpandey                     🔆Good Morning All🔆 \\n☀️ Exclusive Morning Mark...\n",
       "#KING OF FLORIDA 👑                       #360WiseNews : Venetoclax Is A Powerful New Ki...\n",
       "#LeoWeichafe                             Esperando a que comience la lucha, acá en @chi...\n",
       "#Memory                                  Antitumor Potency of an Anti-CD19 Chimeric Ant..."
      ]
     },
     "execution_count": 9,
     "metadata": {},
     "output_type": "execute_result"
    }
   ],
   "source": [
    "data1.groupby(\"tweet_author\").sum().head(10)"
   ]
  },
  {
   "cell_type": "code",
   "execution_count": 10,
   "id": "4f1086b6",
   "metadata": {},
   "outputs": [],
   "source": [
    "df=data1.groupby(\"tweet_text\").sum().value_counts()"
   ]
  },
  {
   "cell_type": "code",
   "execution_count": 11,
   "id": "4cc06dcc",
   "metadata": {},
   "outputs": [
    {
     "data": {
      "text/plain": [
       "tweet_author               \n",
       "Patient Power                  1573\n",
       "Paperbirds_Hematology          1510\n",
       "VJHemOnc                       1075\n",
       "Oncology Tube                   714\n",
       "Medivizor                       663\n",
       "Club Libertad Limpeño           505\n",
       "Lymphoma Hub                    489\n",
       "Raul Cordoba, MD, PhD           488\n",
       "CLL Ireland                     482\n",
       "OncLive.com                     475\n",
       "Targeted Oncology               450\n",
       "Kathleen D. Hoffman             373\n",
       "Cancer Papers                   372\n",
       "Patient Empowerment Network     367\n",
       "chadi nabhan MD, MBA, FACP      319\n",
       "CLLSA                           282\n",
       "Andrew Schorr                   271\n",
       "CLL Society Inc.                267\n",
       "Lymphoma Papers                 236\n",
       "Anna Deveau                     210\n",
       "CancerWallonia                  206\n",
       "Toby Eyre                       194\n",
       "dtype: int64"
      ]
     },
     "execution_count": 11,
     "metadata": {},
     "output_type": "execute_result"
    }
   ],
   "source": [
    "df.head(22)"
   ]
  },
  {
   "cell_type": "markdown",
   "id": "49adce63",
   "metadata": {},
   "source": [
    "## objective1.csv"
   ]
  },
  {
   "cell_type": "code",
   "execution_count": 12,
   "id": "24ac0457",
   "metadata": {},
   "outputs": [],
   "source": [
    "df.to_csv (r'C:\\Users\\rahul\\OneDrive\\Desktop\\Akaike Technologies Assignment_Rahul_jha\\NLP Assignment\\objective_1.csv', index=None)"
   ]
  },
  {
   "cell_type": "code",
   "execution_count": 13,
   "id": "4984070c",
   "metadata": {},
   "outputs": [
    {
     "data": {
      "text/plain": [
       "tweet_text                                                                                                                                                                                                                                         \n",
       "#CLL                                                                                                                                                                                                                                                   4\n",
       "chronic lymphocytic leukemia                                                                                                                                                                                                                           2\n",
       "ASTRAZENECA: LYMPHOMA DRUG ACALABRUTINIB A POTENTIAL THERAPY FOR SEVERE COVID-19ASTRAZENECA'S CANCER DRUG CALQUENCE SAID TO SHOW INITIAL SIGNS OF HELPING HOSPITALISED COVID-19 PATIENTS - RTRS                                                        2\n",
       "Among older patients with untreated chronic lymphocytic leukemia, treatment with ibrutinib, either alone or in combination with rituximab, was superior to treatment with bendamustine + rituximab with regard to progression-free survival. #ASH18    2\n",
       "#cll                                                                                                                                                                                                                                                   2\n",
       "                                                                                                                                                                                                                                                      ..\n",
       "Congrats to the @WEHI_research @TheRMH @PeterMacCC team for the recognition at #VPHAwards. New paradigm for treating #cancer #CLL https://t.co/PEK0rxauQg                                                                                              1\n",
       "Congratulation to my colleagues from the #GCLLSG on this very important trial in a #CLL patient population in need for innovative therapies #ASCO19 https://t.co/YKKSbS1NsM                                                                            1\n",
       "Congratulations @FerranNadeu!!! @idibaps @hospitalclinic #CLL https://t.co/E1Z9QHh9jy                                                                                                                                                                  1\n",
       "Congratulations @genentech for being among companies transforming chronic lymphocytic #leukemia treatment. #ICYMI : http://t.co/gzmdDuiYNb                                                                                                             1\n",
       "󾭻 urbano encuéntranos en la #cll-37-8-51 barrio gaitan                                                                                                                                                                                                 1\n",
       "Length: 9282, dtype: int64"
      ]
     },
     "execution_count": 13,
     "metadata": {},
     "output_type": "execute_result"
    }
   ],
   "source": [
    "data1.groupby(\"tweet_author\").sum().value_counts()"
   ]
  },
  {
   "cell_type": "markdown",
   "id": "8136fb6f",
   "metadata": {},
   "source": [
    "##  Objective 2: Find out the sentiment/polarity of each author towards each of the entities."
   ]
  },
  {
   "cell_type": "code",
   "execution_count": 14,
   "id": "f10a8eb5",
   "metadata": {},
   "outputs": [],
   "source": [
    "from vaderSentiment.vaderSentiment import SentimentIntensityAnalyzer"
   ]
  },
  {
   "cell_type": "code",
   "execution_count": 15,
   "id": "40cae5e0",
   "metadata": {},
   "outputs": [
    {
     "name": "stdout",
     "output_type": "stream",
     "text": [
      "Sentiment of text 1: {'neg': 0.0, 'neu': 1.0, 'pos': 0.0, 'compound': 0.0}\n",
      "Sentiment of text 2: {'neg': 0.0, 'neu': 1.0, 'pos': 0.0, 'compound': 0.0}\n",
      "Sentiment of text 3: {'neg': 0.0, 'neu': 1.0, 'pos': 0.0, 'compound': 0.0}\n",
      "Sentiment of text 4: {'neg': 0.0, 'neu': 0.61, 'pos': 0.39, 'compound': 0.4927}\n"
     ]
    }
   ],
   "source": [
    "sentiment = SentimentIntensityAnalyzer()\n",
    "\n",
    "text_1 = \"Pink Pearl Apples are tasty but Empire Apples are not.\"\n",
    "text_2 = \"Empire Apples are very tasty.\"\n",
    "text_3 = \"Pink Pearl Apples are not tasty.\"\n",
    "text_4 = \"Pink Pearl Apples smells really good.\"\n",
    "sent_1 = sentiment.polarity_scores(text_1)\n",
    "sent_2 = sentiment.polarity_scores(text_2)\n",
    "sent_3 = sentiment.polarity_scores(text_3)\n",
    "sent_4 = sentiment.polarity_scores(text_4)\n",
    "print(\"Sentiment of text 1:\", sent_1)\n",
    "print(\"Sentiment of text 2:\", sent_2)\n",
    "print(\"Sentiment of text 3:\", sent_3)\n",
    "print(\"Sentiment of text 4:\", sent_4)"
   ]
  },
  {
   "cell_type": "code",
   "execution_count": 16,
   "id": "189944a0",
   "metadata": {},
   "outputs": [
    {
     "name": "stderr",
     "output_type": "stream",
     "text": [
      "[nltk_data] Downloading package stopwords to\n",
      "[nltk_data]     C:\\Users\\rahul\\AppData\\Roaming\\nltk_data...\n",
      "[nltk_data]   Package stopwords is already up-to-date!\n"
     ]
    }
   ],
   "source": [
    "nltk.download('stopwords')\n",
    "stemmer = nltk.SnowballStemmer(\"english\")\n",
    "from nltk.corpus import stopwords\n",
    "import string\n",
    "stopword=set(stopwords.words('english'))\n",
    "\n",
    "def clean(text):\n",
    "    text = str(text).lower()\n",
    "    text = re.sub('\\[.*?\\]', '', text)\n",
    "    text = re.sub('https?://\\S+|www\\.\\S+', '', text)\n",
    "    text = re.sub('<.*?>+', '', text)\n",
    "    text = re.sub('[%s]' % re.escape(string.punctuation), '', text)\n",
    "    text = re.sub('\\n', '', text)\n",
    "    text = re.sub('\\w*\\d\\w*', '', text)\n",
    "    text = [word for word in text.split(' ') if word not in stopword]\n",
    "    text=\" \".join(text)\n",
    "    text = [stemmer.stem(word) for word in text.split(' ')]\n",
    "    text=\" \".join(text)\n",
    "    return text\n",
    "data1['tweet_text'] = data1['tweet_text'].apply(clean)"
   ]
  },
  {
   "cell_type": "code",
   "execution_count": 17,
   "id": "baca0b15",
   "metadata": {},
   "outputs": [
    {
     "name": "stderr",
     "output_type": "stream",
     "text": [
      "[nltk_data] Downloading package vader_lexicon to\n",
      "[nltk_data]     C:\\Users\\rahul\\AppData\\Roaming\\nltk_data...\n",
      "[nltk_data]   Package vader_lexicon is already up-to-date!\n"
     ]
    }
   ],
   "source": [
    "from nltk.sentiment.vader import SentimentIntensityAnalyzer\n",
    "nltk.download('vader_lexicon')\n",
    "sentiments = SentimentIntensityAnalyzer()\n",
    "data1[\"Positive\"] = [sentiments.polarity_scores(i)[\"pos\"] for i in data1['tweet_text']]\n",
    "data1[\"Negative\"] = [sentiments.polarity_scores(i)[\"neg\"] for i in data1['tweet_text']]"
   ]
  },
  {
   "cell_type": "code",
   "execution_count": 18,
   "id": "4f885dad",
   "metadata": {},
   "outputs": [
    {
     "name": "stdout",
     "output_type": "stream",
     "text": [
      "                                                                      tweet_text  \\\n",
      "2013-07-18 09:39:46.071961602  ⚕️ scientist conduct phase ii studi acalabruti...   \n",
      "2013-07-17 03:40:32.173842437  phase  acalabrutinibvenetoclax av trial still ...   \n",
      "2013-07-15 15:41:16.553048065                nice back astrazeneca calquenc cll    \n",
      "2013-07-12 19:19:42.367813635  acalabrutinib valuabl option pts intoler ibrut...   \n",
      "2013-07-04 12:40:34.334232586  nice recommend use acalabrutinib patient treat...   \n",
      "\n",
      "                               Positive  Negative  \n",
      "2013-07-18 09:39:46.071961602     0.000       0.0  \n",
      "2013-07-17 03:40:32.173842437     0.104       0.0  \n",
      "2013-07-15 15:41:16.553048065     0.412       0.0  \n",
      "2013-07-12 19:19:42.367813635     0.162       0.0  \n",
      "2013-07-04 12:40:34.334232586     0.346       0.0  \n"
     ]
    }
   ],
   "source": [
    "data1 = data1[['tweet_text', \"Positive\", \n",
    "             \"Negative\"]]\n",
    "print(data1.head())"
   ]
  },
  {
   "cell_type": "markdown",
   "id": "2b8491c7",
   "metadata": {},
   "source": [
    "## objective2.csv"
   ]
  },
  {
   "cell_type": "code",
   "execution_count": 19,
   "id": "0f746408",
   "metadata": {},
   "outputs": [],
   "source": [
    "data3=data1.copy()"
   ]
  },
  {
   "cell_type": "code",
   "execution_count": 20,
   "id": "d4cc29b5",
   "metadata": {},
   "outputs": [
    {
     "data": {
      "text/html": [
       "<div>\n",
       "<style scoped>\n",
       "    .dataframe tbody tr th:only-of-type {\n",
       "        vertical-align: middle;\n",
       "    }\n",
       "\n",
       "    .dataframe tbody tr th {\n",
       "        vertical-align: top;\n",
       "    }\n",
       "\n",
       "    .dataframe thead th {\n",
       "        text-align: right;\n",
       "    }\n",
       "</style>\n",
       "<table border=\"1\" class=\"dataframe\">\n",
       "  <thead>\n",
       "    <tr style=\"text-align: right;\">\n",
       "      <th></th>\n",
       "      <th>tweet_text</th>\n",
       "      <th>Positive</th>\n",
       "      <th>Negative</th>\n",
       "    </tr>\n",
       "  </thead>\n",
       "  <tbody>\n",
       "    <tr>\n",
       "      <th>2013-07-18 09:39:46.071961602</th>\n",
       "      <td>⚕️ scientist conduct phase ii studi acalabruti...</td>\n",
       "      <td>0.000</td>\n",
       "      <td>0.0</td>\n",
       "    </tr>\n",
       "    <tr>\n",
       "      <th>2013-07-17 03:40:32.173842437</th>\n",
       "      <td>phase  acalabrutinibvenetoclax av trial still ...</td>\n",
       "      <td>0.104</td>\n",
       "      <td>0.0</td>\n",
       "    </tr>\n",
       "    <tr>\n",
       "      <th>2013-07-15 15:41:16.553048065</th>\n",
       "      <td>nice back astrazeneca calquenc cll</td>\n",
       "      <td>0.412</td>\n",
       "      <td>0.0</td>\n",
       "    </tr>\n",
       "    <tr>\n",
       "      <th>2013-07-12 19:19:42.367813635</th>\n",
       "      <td>acalabrutinib valuabl option pts intoler ibrut...</td>\n",
       "      <td>0.162</td>\n",
       "      <td>0.0</td>\n",
       "    </tr>\n",
       "    <tr>\n",
       "      <th>2013-07-04 12:40:34.334232586</th>\n",
       "      <td>nice recommend use acalabrutinib patient treat...</td>\n",
       "      <td>0.346</td>\n",
       "      <td>0.0</td>\n",
       "    </tr>\n",
       "  </tbody>\n",
       "</table>\n",
       "</div>"
      ],
      "text/plain": [
       "                                                                      tweet_text  \\\n",
       "2013-07-18 09:39:46.071961602  ⚕️ scientist conduct phase ii studi acalabruti...   \n",
       "2013-07-17 03:40:32.173842437  phase  acalabrutinibvenetoclax av trial still ...   \n",
       "2013-07-15 15:41:16.553048065                nice back astrazeneca calquenc cll    \n",
       "2013-07-12 19:19:42.367813635  acalabrutinib valuabl option pts intoler ibrut...   \n",
       "2013-07-04 12:40:34.334232586  nice recommend use acalabrutinib patient treat...   \n",
       "\n",
       "                               Positive  Negative  \n",
       "2013-07-18 09:39:46.071961602     0.000       0.0  \n",
       "2013-07-17 03:40:32.173842437     0.104       0.0  \n",
       "2013-07-15 15:41:16.553048065     0.412       0.0  \n",
       "2013-07-12 19:19:42.367813635     0.162       0.0  \n",
       "2013-07-04 12:40:34.334232586     0.346       0.0  "
      ]
     },
     "execution_count": 20,
     "metadata": {},
     "output_type": "execute_result"
    }
   ],
   "source": [
    "data3.head()"
   ]
  },
  {
   "cell_type": "code",
   "execution_count": 21,
   "id": "1a4d8679",
   "metadata": {},
   "outputs": [],
   "source": [
    "data3.to_csv (r'C:\\Users\\rahul\\OneDrive\\Desktop\\Akaike Technologies Assignment_Rahul_jha\\NLP Assignment\\objective_2.csv', index=None)"
   ]
  },
  {
   "cell_type": "code",
   "execution_count": 22,
   "id": "49c69af2",
   "metadata": {},
   "outputs": [
    {
     "name": "stdout",
     "output_type": "stream",
     "text": [
      "Positive 😊 \n"
     ]
    }
   ],
   "source": [
    "x = sum(data1[\"Positive\"])\n",
    "y = sum(data1[\"Negative\"])\n",
    "\n",
    "\n",
    "def sentiment_score(a, b):\n",
    "    if (a>b) :\n",
    "        print(\"Positive 😊 \")\n",
    "    elif (b>a) :\n",
    "        print(\"Negative 😠 \")\n",
    "        \n",
    "sentiment_score(x, y)"
   ]
  },
  {
   "cell_type": "code",
   "execution_count": 23,
   "id": "0b12616f",
   "metadata": {},
   "outputs": [
    {
     "name": "stdout",
     "output_type": "stream",
     "text": [
      "Positive:  3036.0440000000335\n",
      "Negative:  1902.5980000000004\n"
     ]
    }
   ],
   "source": [
    "print(\"Positive: \", x)\n",
    "print(\"Negative: \", y)\n"
   ]
  },
  {
   "cell_type": "markdown",
   "id": "e22c4835",
   "metadata": {},
   "source": [
    "## Thanks"
   ]
  },
  {
   "cell_type": "code",
   "execution_count": null,
   "id": "f927c09d",
   "metadata": {},
   "outputs": [],
   "source": []
  }
 ],
 "metadata": {
  "kernelspec": {
   "display_name": "Python 3 (ipykernel)",
   "language": "python",
   "name": "python3"
  },
  "language_info": {
   "codemirror_mode": {
    "name": "ipython",
    "version": 3
   },
   "file_extension": ".py",
   "mimetype": "text/x-python",
   "name": "python",
   "nbconvert_exporter": "python",
   "pygments_lexer": "ipython3",
   "version": "3.9.13"
  }
 },
 "nbformat": 4,
 "nbformat_minor": 5
}
